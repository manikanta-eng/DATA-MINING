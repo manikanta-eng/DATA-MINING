{
  "nbformat": 4,
  "nbformat_minor": 0,
  "metadata": {
    "colab": {
      "provenance": [],
      "authorship_tag": "ABX9TyMLrD5JvZjltuCxHkCXB58A",
      "include_colab_link": true
    },
    "kernelspec": {
      "name": "python3",
      "display_name": "Python 3"
    },
    "language_info": {
      "name": "python"
    }
  },
  "cells": [
    {
      "cell_type": "markdown",
      "metadata": {
        "id": "view-in-github",
        "colab_type": "text"
      },
      "source": [
        "<a href=\"https://colab.research.google.com/github/manikanta-eng/DATA-MINING/blob/main/lab_08.ipynb\" target=\"_parent\"><img src=\"https://colab.research.google.com/assets/colab-badge.svg\" alt=\"Open In Colab\"/></a>"
      ]
    },
    {
      "cell_type": "code",
      "execution_count": 2,
      "metadata": {
        "id": "7k1WXUt0ivrt"
      },
      "outputs": [],
      "source": [
        "\n",
        "import pandas as pd\n"
      ]
    },
    {
      "cell_type": "code",
      "source": [
        "data = {\n",
        "    \"Employee\": [\"John\", \"Sarah\", \"Mike\", \"Emma\", \"Tom\"],\n",
        "    \"Department\": [\"IT\", \"HR\", \"IT\", \"Finance\", \"HR\"],\n",
        "    \"Salary\": [60000, 50000, 75000, 65000, 48000],\n",
        "    \"Experience (Years)\": [5, 3, 7, 4, 2],\n",
        "    \"Performance Rating (Out of 5)\": [4.5, 3.8, 4.9, 4.2, 3.5]\n",
        "}"
      ],
      "metadata": {
        "id": "sHrKOaMDjHTJ"
      },
      "execution_count": 3,
      "outputs": []
    },
    {
      "cell_type": "code",
      "source": [
        "df = pd.DataFrame(data)"
      ],
      "metadata": {
        "id": "xSsok9bvmaYE"
      },
      "execution_count": 4,
      "outputs": []
    },
    {
      "cell_type": "code",
      "source": [
        "avg_salary = df.groupby(\"Department\")[\"Salary\"].mean()\n",
        "print(\"Average Salary per Department:\\n\", avg_salary)"
      ],
      "metadata": {
        "colab": {
          "base_uri": "https://localhost:8080/"
        },
        "id": "9_y5H7XJmk-q",
        "outputId": "24e5a37e-3dc8-43ea-8457-8bbdc6a20109"
      },
      "execution_count": 12,
      "outputs": [
        {
          "output_type": "stream",
          "name": "stdout",
          "text": [
            "Average Salary per Department:\n",
            " Department\n",
            "Finance    65000.0\n",
            "HR         49000.0\n",
            "IT         67500.0\n",
            "Name: Salary, dtype: float64\n"
          ]
        }
      ]
    },
    {
      "cell_type": "code",
      "source": [
        "high_performers = df[df[\"Performance Rating (Out of 5)\"] > 4.0]\n",
        "print(\"\\nEmployees with Performance Rating above 4.0:\\n\", high_performers)"
      ],
      "metadata": {
        "colab": {
          "base_uri": "https://localhost:8080/"
        },
        "id": "fTjHvtDepCuZ",
        "outputId": "4aee4857-a4a4-4dd7-ce7d-637a6694b3e0"
      },
      "execution_count": 13,
      "outputs": [
        {
          "output_type": "stream",
          "name": "stdout",
          "text": [
            "\n",
            "Employees with Performance Rating above 4.0:\n",
            "   Employee Department  Salary  Experience (Years)  \\\n",
            "0     John         IT   60000                   5   \n",
            "2     Mike         IT   75000                   7   \n",
            "3     Emma    Finance   65000                   4   \n",
            "\n",
            "   Performance Rating (Out of 5)  Increment  New Salary  \n",
            "0                            4.5        0.1     66000.0  \n",
            "2                            4.9        0.1     82500.0  \n",
            "3                            4.2        0.1     71500.0  \n"
          ]
        }
      ]
    },
    {
      "cell_type": "code",
      "source": [
        "df[\"Increment\"] = df[\"Performance Rating (Out of 5)\"].apply(lambda x: 0.10 if x > 4.0 else 0.05)"
      ],
      "metadata": {
        "id": "cDol3moNqMV7"
      },
      "execution_count": 14,
      "outputs": []
    },
    {
      "cell_type": "code",
      "source": [
        "df[\"New Salary\"] = df[\"Salary\"] * (1 + df[\"Increment\"])"
      ],
      "metadata": {
        "id": "WtBYm8HTqODz"
      },
      "execution_count": 15,
      "outputs": []
    },
    {
      "cell_type": "code",
      "source": [
        "sorted_df = df.sort_values(by=\"New Salary\", ascending=False)\n",
        "print(\"\\nSorted Employees by New Salary (Descending Order):\\n\",sorted_df)"
      ],
      "metadata": {
        "colab": {
          "base_uri": "https://localhost:8080/"
        },
        "id": "upmPitYdqUdD",
        "outputId": "652279e6-3126-478d-bc6d-8eb98df38b57"
      },
      "execution_count": 19,
      "outputs": [
        {
          "output_type": "stream",
          "name": "stdout",
          "text": [
            "\n",
            "Sorted Employees by New Salary (Descending Order):\n",
            "   Employee Department  Salary  Experience (Years)  \\\n",
            "2     Mike         IT   75000                   7   \n",
            "3     Emma    Finance   65000                   4   \n",
            "0     John         IT   60000                   5   \n",
            "1    Sarah         HR   50000                   3   \n",
            "4      Tom         HR   48000                   2   \n",
            "\n",
            "   Performance Rating (Out of 5)  Increment  New Salary  \n",
            "2                            4.9       0.10     82500.0  \n",
            "3                            4.2       0.10     71500.0  \n",
            "0                            4.5       0.10     66000.0  \n",
            "1                            3.8       0.05     52500.0  \n",
            "4                            3.5       0.05     50400.0  \n"
          ]
        }
      ]
    },
    {
      "cell_type": "markdown",
      "source": [
        "##covid 19 cases analysis##"
      ],
      "metadata": {
        "id": "YjxII_DfrghN"
      }
    },
    {
      "cell_type": "code",
      "source": [
        "import pandas as pd"
      ],
      "metadata": {
        "id": "OdKTnBAyrxEA"
      },
      "execution_count": 20,
      "outputs": []
    },
    {
      "cell_type": "code",
      "source": [
        "data = {\n",
        "    \"City\": [\"New York\", \"Los Angeles\", \"Chicago\", \"Houston\", \"Miami\"],\n",
        "    \"Total Cases\": [100000, 85000, 65000, 70000, 55000],\n",
        "    \"Recovered\": [75000, 70000, 50000, 60000, 45000],\n",
        "    \"Deaths\": [5000, 3500, 2500, 2000, 1500]\n",
        "}"
      ],
      "metadata": {
        "id": "p33DXm_msMSs"
      },
      "execution_count": 21,
      "outputs": []
    },
    {
      "cell_type": "code",
      "source": [
        "df = pd.DataFrame(data)"
      ],
      "metadata": {
        "id": "PNFfS2DEsOL1"
      },
      "execution_count": 22,
      "outputs": []
    },
    {
      "cell_type": "code",
      "source": [
        "df[\"Recovery Rate (%)\"] = (df[\"Recovered\"] / df[\"Total Cases\"]) * 100\n",
        "print(\"DataFrame with Recovery and Death Rates:\")\n",
        "print(df)"
      ],
      "metadata": {
        "colab": {
          "base_uri": "https://localhost:8080/"
        },
        "id": "BEvEEScHsaaX",
        "outputId": "d7d10c9a-58b5-41b1-eabd-1920ecb76940"
      },
      "execution_count": 32,
      "outputs": [
        {
          "output_type": "stream",
          "name": "stdout",
          "text": [
            "DataFrame with Recovery and Death Rates:\n",
            "          City  Total Cases  Recovered  Deaths  Recovery Rate (%)  \\\n",
            "0     New York       100000      75000    5000          75.000000   \n",
            "1  Los Angeles        85000      70000    3500          82.352941   \n",
            "2      Chicago        65000      50000    2500          76.923077   \n",
            "3      Houston        70000      60000    2000          85.714286   \n",
            "4        Miami        55000      45000    1500          81.818182   \n",
            "\n",
            "   Death Rate (%)  \n",
            "0        5.000000  \n",
            "1        4.117647  \n",
            "2        3.846154  \n",
            "3        2.857143  \n",
            "4        2.727273  \n"
          ]
        }
      ]
    },
    {
      "cell_type": "code",
      "source": [
        "df[\"Death Rate (%)\"] = (df[\"Deaths\"] / df[\"Total Cases\"]) * 100\n",
        "high_death_rate_cities = df[df[\"Death Rate (%)\"] > 5]\n",
        "print(\"\\nCities with Death Rate > 5%:\")\n",
        "print(high_death_rate_cities)"
      ],
      "metadata": {
        "colab": {
          "base_uri": "https://localhost:8080/"
        },
        "id": "l2ISEioetzP0",
        "outputId": "728c4dc6-fc31-4f46-93f3-9eac08f43892"
      },
      "execution_count": 33,
      "outputs": [
        {
          "output_type": "stream",
          "name": "stdout",
          "text": [
            "\n",
            "Cities with Death Rate > 5%:\n",
            "Empty DataFrame\n",
            "Columns: [City, Total Cases, Recovered, Deaths, Recovery Rate (%), Death Rate (%)]\n",
            "Index: []\n"
          ]
        }
      ]
    },
    {
      "cell_type": "code",
      "source": [
        "sorted_df = df.sort_values(by=\"Recovery Rate (%)\", ascending=False)\n",
        "print(\"\\nCities sorted by Recovery Rate:\")\n",
        "print(sorted_df)"
      ],
      "metadata": {
        "colab": {
          "base_uri": "https://localhost:8080/"
        },
        "id": "wJvG_lFPsixm",
        "outputId": "795ba166-bab5-4d25-ffd5-255d8d200c90"
      },
      "execution_count": 31,
      "outputs": [
        {
          "output_type": "stream",
          "name": "stdout",
          "text": [
            "\n",
            "Cities sorted by Recovery Rate:\n",
            "          City  Total Cases  Recovered  Deaths  Recovery Rate (%)  \\\n",
            "3      Houston        70000      60000    2000          85.714286   \n",
            "1  Los Angeles        85000      70000    3500          82.352941   \n",
            "4        Miami        55000      45000    1500          81.818182   \n",
            "2      Chicago        65000      50000    2500          76.923077   \n",
            "0     New York       100000      75000    5000          75.000000   \n",
            "\n",
            "   Death Rate (%)  \n",
            "3        2.857143  \n",
            "1        4.117647  \n",
            "4        2.727273  \n",
            "2        3.846154  \n",
            "0        5.000000  \n"
          ]
        }
      ]
    },
    {
      "cell_type": "code",
      "source": [
        "total_cases = df[\"Total Cases\"].sum()\n",
        "total_deaths = df[\"Deaths\"].sum()\n",
        "print(\"\\nTotal Cases Across All Cities:\", total_cases)\n",
        "print(\"Total Deaths Across All Cities:\", total_deaths)\n"
      ],
      "metadata": {
        "colab": {
          "base_uri": "https://localhost:8080/"
        },
        "id": "4qMmTiT9so_I",
        "outputId": "65e2dbb6-5db4-4bd0-8dce-a688d89218c0"
      },
      "execution_count": 35,
      "outputs": [
        {
          "output_type": "stream",
          "name": "stdout",
          "text": [
            "\n",
            "Total Cases Across All Cities: 375000\n",
            "Total Deaths Across All Cities: 14500\n"
          ]
        }
      ]
    }
  ]
}